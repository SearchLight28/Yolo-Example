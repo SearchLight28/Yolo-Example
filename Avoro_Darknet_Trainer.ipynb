{
  "cells": [
    {
      "cell_type": "code",
      "execution_count": null,
      "metadata": {
        "id": "iYwG7Ku-M33K"
      },
      "outputs": [],
      "source": [
        "## README!!!!! ##\n",
        "\n",
        "## Welcome to the Avoro Mega Darknet Trainer, Making Yolo Easy!! ##\n",
        "\n",
        "# Step by step instructions to use this program:\n",
        "\n",
        "# 1)  Change your colab settings to use GPU by going\n",
        "#     Edit > Notebook settings > Hardware accelerator > GPU\n",
        "\n",
        "# 2)  Edit the variables in the \"VARIABLES\" section below the readme\n",
        "\n",
        "# 3)  Use https://github.com/AlexeyAB/Yolo_mark to mark your images and\n",
        "#     then zip just the folder containing the .jpg and .txt files which\n",
        "#     should be the \"x64/Release/data/img/\" folder\n",
        "\n",
        "# 4)  Upload the zip of images to github the ColabFileDownload github\n",
        "#     (https://github.com/jamesabsolom/ColabFileDownload.git)\n",
        "\n",
        "# 5)  Run the VARIABLES/SETUP section below by just clicking play\n",
        "#     on the code snippet\n",
        "\n",
        "## README!!!!! ##"
      ]
    },
    {
      "cell_type": "code",
      "execution_count": null,
      "metadata": {
        "id": "68eMertgIxaB"
      },
      "outputs": [],
      "source": [
        "## VARIABLES ##\n",
        "## ------------ ##\n",
        "\n",
        "# The number of unique objects you are detecting e.g. Giraffe, Potato, Car\n",
        "Classes = 1\n",
        "# A list containing the name of each of the unique objects you are detecting\n",
        "Classes_Names = [\"Daffodil Head\"]\n",
        "\n",
        "## SETUP SCRIPT ##\n",
        "## ------------ ##\n",
        "import os\n",
        "import shutil\n",
        "import time\n",
        "\n",
        "# Clone darknet repo\n",
        "%cd /content\n",
        "!git clone https://github.com/AlexeyAB/darknet\n",
        "\n",
        "# Change makefile to have GPU and OPENCV enabled\n",
        "%cd /content/darknet\n",
        "!sed -i 's/OPENCV=0/OPENCV=1/' Makefile\n",
        "!sed -i 's/GPU=0/GPU=1/' Makefile\n",
        "!sed -i 's/CUDNN=0/CUDNN=1/' Makefile\n",
        "!sed -i 's/CUDNN_HALF=0/CUDNN_HALF=1/' Makefile\n",
        "\n",
        "# Verify CUDA is installed\n",
        "!/usr/local/cuda/bin/nvcc --version\n",
        "\n",
        "# Download all the files for running the training\n",
        "%cd /content/darknet\n",
        "!git clone https://github.com/jamesabsolom/ColabFileDownload.git\n",
        "\n",
        "# Make darknet (builds darknet so that you can then use the darknet executable file to run or train object detectors)\n",
        "%cd /content/darknet\n",
        "!make -j8\n",
        "\n",
        "# Move all the files from the colab file download to the correct places\n",
        "classfolder = \"/content/darknet/ColabFileDownload/\" + str(Classes) + \"class/\"\n",
        "os.rename(classfolder + \"obj.data\", \"/content/darknet/build/darknet/x64/data/obj.data\")\n",
        "os.rename(classfolder + \"yolo-obj.cfg\", \"/content/darknet/build/darknet/x64/cfg/yolo-obj.cfg\")\n",
        "\n",
        "# Make the names file\n",
        "%cd /content/darknet/build/darknet/x64/data\n",
        "with open(\"obj.names\", 'w') as file:\n",
        "    for item in Classes_Names:\n",
        "        file.write(str(item) + '\\n')\n",
        "\n",
        "# Unzip the images zip\n",
        "%cd /content/darknet/ColabFileDownload\n",
        "os.mkdir(\"/content/darknet/build/darknet/x64/data/obj\")\n",
        "shutil.unpack_archive(\"/content/darknet/ColabFileDownload/img.zip\", \"/content/darknet/build/darknet/x64/data/obj/\")\n",
        "\n",
        "# Literally only had to add this bit cause of stupid unzip rules\n",
        "%cd /content/darknet/build/darknet/x64/data\n",
        "with open(\"train.txt\", 'w') as file:\n",
        "  for item in os.listdir(\"/content/darknet/build/darknet/x64/data/obj/img\"):\n",
        "    os.rename(\"/content/darknet/build/darknet/x64/data/obj/img/\" + item, \"/content/darknet/build/darknet/x64/data/obj/\" + item)\n",
        "    if str(item).endswith(\".jpg\"):\n",
        "      file.write(\"/content/darknet/build/darknet/x64/data/obj/\" + str(item) + '\\n')\n",
        "\n",
        "os.rmdir(\"/content/darknet/build/darknet/x64/data/obj/img\")\n",
        "\n",
        "# Download the weights file\n",
        "%cd /content/darknet/build/darknet/x64\n",
        "!wget https://github.com/AlexeyAB/darknet/releases/download/darknet_yolo_v3_optimal/yolov4.conv.137"
      ]
    },
    {
      "cell_type": "code",
      "execution_count": null,
      "metadata": {
        "id": "i6JUVyS7alLa"
      },
      "outputs": [],
      "source": [
        "%cd /content/darknet\n",
        "! ./darknet detector train /content/darknet/build/darknet/x64/data/obj.data /content/darknet/build/darknet/x64/cfg/yolo-obj.cfg /content/darknet/build/darknet/x64/yolov4.conv.137 -dont_show"
      ]
    }
  ],
  "metadata": {
    "colab": {
      "machine_shape": "hm",
      "provenance": [],
      "gpuType": "V100"
    },
    "kernelspec": {
      "display_name": "Python 3",
      "name": "python3"
    },
    "language_info": {
      "name": "python"
    },
    "accelerator": "GPU"
  },
  "nbformat": 4,
  "nbformat_minor": 0
}